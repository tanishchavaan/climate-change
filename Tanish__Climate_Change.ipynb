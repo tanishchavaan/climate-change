{
  "nbformat": 4,
  "nbformat_minor": 0,
  "metadata": {
    "colab": {
      "provenance": [],
      "toc_visible": true
    },
    "kernelspec": {
      "name": "python3",
      "display_name": "Python 3"
    }
  },
  "cells": [
    {
      "cell_type": "markdown",
      "metadata": {
        "id": "37puETfgRzzg"
      },
      "source": [
        "## Predicting and Mitigating Climate Change Impacts Using AI"
      ]
    },
    {
      "cell_type": "markdown",
      "source": [],
      "metadata": {
        "id": "15GemQi_uXVc"
      }
    },
    {
      "cell_type": "markdown",
      "metadata": {
        "id": "EoRP98MpR-qj"
      },
      "source": [
        "## Import the required libraries"
      ]
    },
    {
      "cell_type": "code",
      "source": [
        "import numpy as np\n",
        "import pandas as pd\n",
        "import matplotlib.pyplot as plt"
      ],
      "metadata": {
        "id": "OHcaGd0RjVGT"
      },
      "execution_count": null,
      "outputs": []
    },
    {
      "cell_type": "markdown",
      "source": [
        "## Import the required dataset"
      ],
      "metadata": {
        "id": "8KKpj1HRoE1N"
      }
    },
    {
      "cell_type": "code",
      "source": [
        "\n",
        "dataset = pd.read_csv(\"/content/climate-change.csv\")\n"
      ],
      "metadata": {
        "id": "jeq7JCZVjzf_"
      },
      "execution_count": null,
      "outputs": []
    },
    {
      "cell_type": "code",
      "source": [
        "print(dataset.head())"
      ],
      "metadata": {
        "colab": {
          "base_uri": "https://localhost:8080/"
        },
        "id": "KMKAlm4BnV0h",
        "outputId": "cdc3459f-3e73-46fb-f1eb-defc1070695c"
      },
      "execution_count": null,
      "outputs": [
        {
          "output_type": "stream",
          "name": "stdout",
          "text": [
            "  Country code Country name     Series code  \\\n",
            "0          ABW        Aruba  AG.LND.EL5M.ZS   \n",
            "1          ADO      Andorra  AG.LND.EL5M.ZS   \n",
            "2          AFG  Afghanistan  AG.LND.EL5M.ZS   \n",
            "3          AGO       Angola  AG.LND.EL5M.ZS   \n",
            "4          ALB      Albania  AG.LND.EL5M.ZS   \n",
            "\n",
            "                           Series name SCALE Decimals       1990 1991 1992  \\\n",
            "0  Land area below 5m (% of land area)     0        1   29.57481   ..   ..   \n",
            "1  Land area below 5m (% of land area)     0        1          0   ..   ..   \n",
            "2  Land area below 5m (% of land area)     0        1          0   ..   ..   \n",
            "3  Land area below 5m (% of land area)     0        1  0.2082346   ..   ..   \n",
            "4  Land area below 5m (% of land area)     0        1   4.967875   ..   ..   \n",
            "\n",
            "  1993  ... 2002 2003 2004 2005 2006 2007 2008 2009 2010 2011  \n",
            "0   ..  ...   ..   ..   ..   ..   ..   ..   ..   ..   ..   ..  \n",
            "1   ..  ...   ..   ..   ..   ..   ..   ..   ..   ..   ..   ..  \n",
            "2   ..  ...   ..   ..   ..   ..   ..   ..   ..   ..   ..   ..  \n",
            "3   ..  ...   ..   ..   ..   ..   ..   ..   ..   ..   ..   ..  \n",
            "4   ..  ...   ..   ..   ..   ..   ..   ..   ..   ..   ..   ..  \n",
            "\n",
            "[5 rows x 28 columns]\n"
          ]
        }
      ]
    },
    {
      "cell_type": "markdown",
      "source": [
        "## Data Cleaning"
      ],
      "metadata": {
        "id": "PnVJys-voY1w"
      }
    },
    {
      "cell_type": "code",
      "source": [
        "dataset.replace(\"..\", np.nan, inplace=True)\n",
        "yearly_columns = [str(year) for year in range(1990, 2012)]\n",
        "dataset[yearly_columns] = dataset[yearly_columns].apply(pd.to_numeric, errors='coerce')"
      ],
      "metadata": {
        "id": "a5ujxE7VkCVi"
      },
      "execution_count": null,
      "outputs": []
    },
    {
      "cell_type": "code",
      "source": [
        "print(dataset)"
      ],
      "metadata": {
        "colab": {
          "base_uri": "https://localhost:8080/"
        },
        "id": "i_mEmmMxnpPv",
        "outputId": "8b19ed36-1146-4866-b42b-4e8f3860bacd"
      },
      "execution_count": null,
      "outputs": [
        {
          "output_type": "stream",
          "name": "stdout",
          "text": [
            "                               Series name          1990          1991  \\\n",
            "0      Land area below 5m (% of land area)  2.957481e+01           NaN   \n",
            "1      Land area below 5m (% of land area)  0.000000e+00           NaN   \n",
            "2      Land area below 5m (% of land area)  0.000000e+00           NaN   \n",
            "3      Land area below 5m (% of land area)  2.082346e-01           NaN   \n",
            "4      Land area below 5m (% of land area)  4.967875e+00           NaN   \n",
            "...                                    ...           ...           ...   \n",
            "13507                     Urban population  2.497176e+06  2.693642e+06   \n",
            "13508                     Urban population  1.830400e+07  1.886488e+07   \n",
            "13509                     Urban population  1.012093e+07  1.056945e+07   \n",
            "13510                     Urban population  3.096861e+06  3.141668e+06   \n",
            "13511                     Urban population  3.036069e+06  3.175023e+06   \n",
            "\n",
            "               1992          1993          1994          1995          1996  \\\n",
            "0               NaN           NaN           NaN           NaN           NaN   \n",
            "1               NaN           NaN           NaN           NaN           NaN   \n",
            "2               NaN           NaN           NaN           NaN           NaN   \n",
            "3               NaN           NaN           NaN           NaN           NaN   \n",
            "4               NaN           NaN           NaN           NaN           NaN   \n",
            "...             ...           ...           ...           ...           ...   \n",
            "13507  2.909756e+06  3.139637e+06  3.373930e+06  3.605265e+06  3.817581e+06   \n",
            "13508  1.944609e+07  2.004848e+07  2.067294e+07  2.132040e+07  2.199214e+07   \n",
            "13509  1.106005e+07  1.156863e+07  1.206149e+07  1.251513e+07  1.299062e+07   \n",
            "13510  3.183257e+06  3.223515e+06  3.264940e+06  3.309118e+06  3.356932e+06   \n",
            "13511  3.310512e+06  3.443082e+06  3.574012e+06  3.704048e+06  3.819482e+06   \n",
            "\n",
            "               1997          1998  ...          2002          2003  \\\n",
            "0               NaN           NaN  ...           NaN           NaN   \n",
            "1               NaN           NaN  ...           NaN           NaN   \n",
            "2               NaN           NaN  ...           NaN           NaN   \n",
            "3               NaN           NaN  ...           NaN           NaN   \n",
            "4               NaN           NaN  ...           NaN           NaN   \n",
            "...             ...           ...  ...           ...           ...   \n",
            "13507  4.024281e+06  4.229363e+06  ...  5.148619e+06  5.410331e+06   \n",
            "13508  2.269759e+07  2.343868e+07  ...  2.634556e+07  2.690436e+07   \n",
            "13509  1.342856e+07  1.385204e+07  ...  1.612534e+07  1.686783e+07   \n",
            "13510  3.407476e+06  3.458431e+06  ...  3.729883e+06  3.819641e+06   \n",
            "13511  3.932953e+06  4.041470e+06  ...  4.367339e+06  4.422102e+06   \n",
            "\n",
            "               2004          2005          2006          2007          2008  \\\n",
            "0               NaN           NaN           NaN           NaN           NaN   \n",
            "1               NaN           NaN           NaN           NaN           NaN   \n",
            "2               NaN           NaN           NaN           NaN           NaN   \n",
            "3               NaN           NaN           NaN           NaN           NaN   \n",
            "4               NaN           NaN           NaN           NaN           NaN   \n",
            "...             ...           ...           ...           ...           ...   \n",
            "13507  5.683412e+06  5.967458e+06  6.275723e+06  6.597265e+06  6.932789e+06   \n",
            "13508  2.744822e+07  2.798869e+07  2.853356e+07  2.907984e+07  2.963688e+07   \n",
            "13509  1.764085e+07  1.843199e+07  1.933373e+07  2.026144e+07  2.121648e+07   \n",
            "13510  3.912871e+06  4.011828e+06  4.128987e+06  4.253139e+06  4.384859e+06   \n",
            "13511  4.469727e+06  4.512876e+06  4.558288e+06  4.600587e+06  4.649406e+06   \n",
            "\n",
            "               2009          2010  2011  \n",
            "0               NaN           NaN   NaN  \n",
            "1               NaN           NaN   NaN  \n",
            "2               NaN           NaN   NaN  \n",
            "3               NaN           NaN   NaN  \n",
            "4               NaN           NaN   NaN  \n",
            "...             ...           ...   ...  \n",
            "13507  7.283068e+06  7.648699e+06   NaN  \n",
            "13508  3.019380e+07  3.084463e+07   NaN  \n",
            "13509  2.220185e+07  2.321996e+07   NaN  \n",
            "13510  4.524564e+06  4.614728e+06   NaN  \n",
            "13511  4.717664e+06  4.814867e+06   NaN  \n",
            "\n",
            "[13512 rows x 23 columns]\n"
          ]
        }
      ]
    },
    {
      "cell_type": "code",
      "source": [
        "dataset.drop(columns=['Country code', 'Country name', 'Series code', 'SCALE', 'Decimals'], inplace=True)"
      ],
      "metadata": {
        "id": "JJKQ3-KekJq9"
      },
      "execution_count": null,
      "outputs": []
    },
    {
      "cell_type": "code",
      "source": [
        "print(dataset)"
      ],
      "metadata": {
        "colab": {
          "base_uri": "https://localhost:8080/"
        },
        "id": "WCjbsesgnsWz",
        "outputId": "7d6de771-a721-4c98-90f3-a9e951338dfd"
      },
      "execution_count": null,
      "outputs": [
        {
          "output_type": "stream",
          "name": "stdout",
          "text": [
            "                               Series name          1990          1991  \\\n",
            "0      Land area below 5m (% of land area)  2.957481e+01           NaN   \n",
            "1      Land area below 5m (% of land area)  0.000000e+00           NaN   \n",
            "2      Land area below 5m (% of land area)  0.000000e+00           NaN   \n",
            "3      Land area below 5m (% of land area)  2.082346e-01           NaN   \n",
            "4      Land area below 5m (% of land area)  4.967875e+00           NaN   \n",
            "...                                    ...           ...           ...   \n",
            "13507                     Urban population  2.497176e+06  2.693642e+06   \n",
            "13508                     Urban population  1.830400e+07  1.886488e+07   \n",
            "13509                     Urban population  1.012093e+07  1.056945e+07   \n",
            "13510                     Urban population  3.096861e+06  3.141668e+06   \n",
            "13511                     Urban population  3.036069e+06  3.175023e+06   \n",
            "\n",
            "               1992          1993          1994          1995          1996  \\\n",
            "0               NaN           NaN           NaN           NaN           NaN   \n",
            "1               NaN           NaN           NaN           NaN           NaN   \n",
            "2               NaN           NaN           NaN           NaN           NaN   \n",
            "3               NaN           NaN           NaN           NaN           NaN   \n",
            "4               NaN           NaN           NaN           NaN           NaN   \n",
            "...             ...           ...           ...           ...           ...   \n",
            "13507  2.909756e+06  3.139637e+06  3.373930e+06  3.605265e+06  3.817581e+06   \n",
            "13508  1.944609e+07  2.004848e+07  2.067294e+07  2.132040e+07  2.199214e+07   \n",
            "13509  1.106005e+07  1.156863e+07  1.206149e+07  1.251513e+07  1.299062e+07   \n",
            "13510  3.183257e+06  3.223515e+06  3.264940e+06  3.309118e+06  3.356932e+06   \n",
            "13511  3.310512e+06  3.443082e+06  3.574012e+06  3.704048e+06  3.819482e+06   \n",
            "\n",
            "               1997          1998  ...          2002          2003  \\\n",
            "0               NaN           NaN  ...           NaN           NaN   \n",
            "1               NaN           NaN  ...           NaN           NaN   \n",
            "2               NaN           NaN  ...           NaN           NaN   \n",
            "3               NaN           NaN  ...           NaN           NaN   \n",
            "4               NaN           NaN  ...           NaN           NaN   \n",
            "...             ...           ...  ...           ...           ...   \n",
            "13507  4.024281e+06  4.229363e+06  ...  5.148619e+06  5.410331e+06   \n",
            "13508  2.269759e+07  2.343868e+07  ...  2.634556e+07  2.690436e+07   \n",
            "13509  1.342856e+07  1.385204e+07  ...  1.612534e+07  1.686783e+07   \n",
            "13510  3.407476e+06  3.458431e+06  ...  3.729883e+06  3.819641e+06   \n",
            "13511  3.932953e+06  4.041470e+06  ...  4.367339e+06  4.422102e+06   \n",
            "\n",
            "               2004          2005          2006          2007          2008  \\\n",
            "0               NaN           NaN           NaN           NaN           NaN   \n",
            "1               NaN           NaN           NaN           NaN           NaN   \n",
            "2               NaN           NaN           NaN           NaN           NaN   \n",
            "3               NaN           NaN           NaN           NaN           NaN   \n",
            "4               NaN           NaN           NaN           NaN           NaN   \n",
            "...             ...           ...           ...           ...           ...   \n",
            "13507  5.683412e+06  5.967458e+06  6.275723e+06  6.597265e+06  6.932789e+06   \n",
            "13508  2.744822e+07  2.798869e+07  2.853356e+07  2.907984e+07  2.963688e+07   \n",
            "13509  1.764085e+07  1.843199e+07  1.933373e+07  2.026144e+07  2.121648e+07   \n",
            "13510  3.912871e+06  4.011828e+06  4.128987e+06  4.253139e+06  4.384859e+06   \n",
            "13511  4.469727e+06  4.512876e+06  4.558288e+06  4.600587e+06  4.649406e+06   \n",
            "\n",
            "               2009          2010  2011  \n",
            "0               NaN           NaN   NaN  \n",
            "1               NaN           NaN   NaN  \n",
            "2               NaN           NaN   NaN  \n",
            "3               NaN           NaN   NaN  \n",
            "4               NaN           NaN   NaN  \n",
            "...             ...           ...   ...  \n",
            "13507  7.283068e+06  7.648699e+06   NaN  \n",
            "13508  3.019380e+07  3.084463e+07   NaN  \n",
            "13509  2.220185e+07  2.321996e+07   NaN  \n",
            "13510  4.524564e+06  4.614728e+06   NaN  \n",
            "13511  4.717664e+06  4.814867e+06   NaN  \n",
            "\n",
            "[13512 rows x 23 columns]\n"
          ]
        }
      ]
    },
    {
      "cell_type": "markdown",
      "source": [
        "## Filter Target data"
      ],
      "metadata": {
        "id": "w_cGo7qWolx6"
      }
    },
    {
      "cell_type": "code",
      "source": [
        "target_data = dataset[dataset['Series name'].str.contains(\"CO2 emissions\", case=False, na=False)].copy()\n"
      ],
      "metadata": {
        "id": "cglMZoknkPx6"
      },
      "execution_count": null,
      "outputs": []
    },
    {
      "cell_type": "code",
      "source": [
        "target_data.drop(columns=['Series name'], inplace=True)"
      ],
      "metadata": {
        "id": "HIRlia9VkTdw"
      },
      "execution_count": null,
      "outputs": []
    },
    {
      "cell_type": "code",
      "source": [
        "target_data.fillna(method='ffill', axis=1, inplace=True)\n"
      ],
      "metadata": {
        "colab": {
          "base_uri": "https://localhost:8080/"
        },
        "id": "BhJsqGQLkYEl",
        "outputId": "3a6e16d2-c379-4c13-d0bf-8df1bbc5298f"
      },
      "execution_count": null,
      "outputs": [
        {
          "output_type": "stream",
          "name": "stderr",
          "text": [
            "<ipython-input-60-c53dddf90913>:1: FutureWarning: DataFrame.fillna with 'method' is deprecated and will raise in a future version. Use obj.ffill() or obj.bfill() instead.\n",
            "  target_data.fillna(method='ffill', axis=1, inplace=True)\n"
          ]
        }
      ]
    },
    {
      "cell_type": "code",
      "source": [
        "target_data = target_data.apply(pd.to_numeric, errors='coerce')"
      ],
      "metadata": {
        "id": "k-JBuahvkbr0"
      },
      "execution_count": null,
      "outputs": []
    },
    {
      "cell_type": "code",
      "source": [
        "target_data.dropna(inplace=True)"
      ],
      "metadata": {
        "id": "qFGLqiDgkfdI"
      },
      "execution_count": null,
      "outputs": []
    },
    {
      "cell_type": "code",
      "source": [
        "print(target_data)"
      ],
      "metadata": {
        "colab": {
          "base_uri": "https://localhost:8080/"
        },
        "id": "xzxID8ranyg1",
        "outputId": "745de8d8-5454-47f7-a740-b751c639a48b"
      },
      "execution_count": null,
      "outputs": [
        {
          "output_type": "stream",
          "name": "stdout",
          "text": [
            "              1990          1991          1992          1993          1994  \\\n",
            "1631   1840.834000   1928.842000   1723.490000   1771.161000   1763.827000   \n",
            "1633   2676.910000   2493.560000   1426.463000   1375.125000   1320.120000   \n",
            "1634   4429.736000   4367.397000   4418.735000   5801.194000   3890.687000   \n",
            "1635   7488.014000   3971.361000   2387.217000   2343.213000   1928.842000   \n",
            "1636  52009.061000  57010.849000  58136.618000  65980.331000  73130.981000   \n",
            "...            ...           ...           ...           ...           ...   \n",
            "2324    294.916481    301.859235    311.360175    299.097191    289.361799   \n",
            "2325   -137.121067    453.232875    595.219998    375.078467    442.502861   \n",
            "2326   1188.108721   1246.484190   1194.689823   1244.421476   1263.079694   \n",
            "2327    177.188966    178.491689    192.226032    209.317977    158.324044   \n",
            "2328    249.227746    246.327514    254.850465    242.904095    257.258129   \n",
            "\n",
            "              1995          1996          1997          1998          1999  \\\n",
            "1631   1785.829000   1811.498000   1851.835000   1668.485000   1686.820000   \n",
            "1633   1268.782000   1199.109000   1114.768000   1056.096000    832.409000   \n",
            "1634  11012.001000  10491.287000   7381.671000   7308.331000   9156.499000   \n",
            "1635   2086.523000   2016.850000   1543.807000   1752.826000   2992.272000   \n",
            "1636  70641.088000  41059.399000  41646.119000  81495.408000  78374.791000   \n",
            "...            ...           ...           ...           ...           ...   \n",
            "2324    296.243609    276.155179    273.954036    267.547341    276.111430   \n",
            "2325    392.251391    491.072976    471.313723    348.995024    386.856864   \n",
            "2326   1206.243689   1173.392007   1183.577298   1180.310822   1149.449448   \n",
            "2327    188.156503    208.195292    198.676505    174.877199    162.057149   \n",
            "2328    237.451975    191.276268    236.724471    233.438850    178.416970   \n",
            "\n",
            "      ...          2002           2003           2004           2005  \\\n",
            "1631  ...   2255.205000    2255.205000    2258.872000    2273.540000   \n",
            "1633  ...    359.366000     583.053000     704.064000     700.397000   \n",
            "1634  ...  12665.818000    9064.824000   18793.375000   19156.408000   \n",
            "1635  ...   3751.341000    4290.390000    4004.364000    4602.085000   \n",
            "1636  ...  84300.663000  106365.002000  112877.594000  115627.844000   \n",
            "...   ...           ...            ...            ...            ...   \n",
            "2324  ...    236.803803     237.627353     232.291589     228.355348   \n",
            "2325  ...    386.852507     411.878652     432.237099     434.552120   \n",
            "2326  ...    971.003968    1033.045965    1074.587449    1006.018829   \n",
            "2327  ...    118.018396     122.686890     154.556711     150.775143   \n",
            "2328  ...    173.147831     175.790206     167.396916     170.239886   \n",
            "\n",
            "               2006           2007           2008           2009  \\\n",
            "1631    2273.540000    2357.881000    2288.208000    2288.208000   \n",
            "1633     696.730000     715.065000     814.074000     814.074000   \n",
            "1634   22266.024000   25151.953000   24370.882000   24370.882000   \n",
            "1635    4231.718000    4481.074000    4176.713000    4176.713000   \n",
            "1636  122752.825000  137981.876000  155066.429000  155066.429000   \n",
            "...             ...            ...            ...            ...   \n",
            "2324     223.545265     223.672218     213.041296     213.041296   \n",
            "2325     436.792950     446.926923     458.830121     458.830121   \n",
            "2326     946.825018     958.010371     930.310881     930.310881   \n",
            "2327     149.032938     145.483249     151.165020     151.165020   \n",
            "2328     162.084372     114.902108     119.388624     119.388624   \n",
            "\n",
            "               2010           2011  \n",
            "1631    2288.208000    2288.208000  \n",
            "1633     814.074000     814.074000  \n",
            "1634   24370.882000   24370.882000  \n",
            "1635    4176.713000    4176.713000  \n",
            "1636  155066.429000  155066.429000  \n",
            "...             ...            ...  \n",
            "2324     213.041296     213.041296  \n",
            "2325     458.830121     458.830121  \n",
            "2326     930.310881     930.310881  \n",
            "2327     151.165020     151.165020  \n",
            "2328     119.388624     119.388624  \n",
            "\n",
            "[531 rows x 22 columns]\n"
          ]
        }
      ]
    },
    {
      "cell_type": "markdown",
      "source": [
        "## Define features and labels"
      ],
      "metadata": {
        "id": "KS8ipqozoreN"
      }
    },
    {
      "cell_type": "code",
      "source": [
        "features = target_data[yearly_columns[:-1]]  # All years except the target year\n",
        "labels = target_data['2011']  # Use 2011 as the target variable"
      ],
      "metadata": {
        "id": "O3TudrKHklMe"
      },
      "execution_count": null,
      "outputs": []
    },
    {
      "cell_type": "code",
      "source": [
        "print(features)"
      ],
      "metadata": {
        "colab": {
          "base_uri": "https://localhost:8080/"
        },
        "id": "-hhldliXn2uD",
        "outputId": "8b245e84-7243-4fd8-8ea0-024437211e12"
      },
      "execution_count": null,
      "outputs": [
        {
          "output_type": "stream",
          "name": "stdout",
          "text": [
            "              1990          1991          1992          1993          1994  \\\n",
            "1631   1840.834000   1928.842000   1723.490000   1771.161000   1763.827000   \n",
            "1633   2676.910000   2493.560000   1426.463000   1375.125000   1320.120000   \n",
            "1634   4429.736000   4367.397000   4418.735000   5801.194000   3890.687000   \n",
            "1635   7488.014000   3971.361000   2387.217000   2343.213000   1928.842000   \n",
            "1636  52009.061000  57010.849000  58136.618000  65980.331000  73130.981000   \n",
            "...            ...           ...           ...           ...           ...   \n",
            "2324    294.916481    301.859235    311.360175    299.097191    289.361799   \n",
            "2325   -137.121067    453.232875    595.219998    375.078467    442.502861   \n",
            "2326   1188.108721   1246.484190   1194.689823   1244.421476   1263.079694   \n",
            "2327    177.188966    178.491689    192.226032    209.317977    158.324044   \n",
            "2328    249.227746    246.327514    254.850465    242.904095    257.258129   \n",
            "\n",
            "              1995          1996          1997          1998          1999  \\\n",
            "1631   1785.829000   1811.498000   1851.835000   1668.485000   1686.820000   \n",
            "1633   1268.782000   1199.109000   1114.768000   1056.096000    832.409000   \n",
            "1634  11012.001000  10491.287000   7381.671000   7308.331000   9156.499000   \n",
            "1635   2086.523000   2016.850000   1543.807000   1752.826000   2992.272000   \n",
            "1636  70641.088000  41059.399000  41646.119000  81495.408000  78374.791000   \n",
            "...            ...           ...           ...           ...           ...   \n",
            "2324    296.243609    276.155179    273.954036    267.547341    276.111430   \n",
            "2325    392.251391    491.072976    471.313723    348.995024    386.856864   \n",
            "2326   1206.243689   1173.392007   1183.577298   1180.310822   1149.449448   \n",
            "2327    188.156503    208.195292    198.676505    174.877199    162.057149   \n",
            "2328    237.451975    191.276268    236.724471    233.438850    178.416970   \n",
            "\n",
            "      ...           2001          2002           2003           2004  \\\n",
            "1631  ...    2236.870000   2255.205000    2255.205000    2258.872000   \n",
            "1633  ...     645.392000    359.366000     583.053000     704.064000   \n",
            "1634  ...    9732.218000  12665.818000    9064.824000   18793.375000   \n",
            "1635  ...    3230.627000   3751.341000    4290.390000    4004.364000   \n",
            "1636  ...  101333.878000  84300.663000  106365.002000  112877.594000   \n",
            "...   ...            ...           ...            ...            ...   \n",
            "2324  ...     247.242673    236.803803     237.627353     232.291589   \n",
            "2325  ...     414.374737    386.852507     411.878652     432.237099   \n",
            "2326  ...    1050.210831    971.003968    1033.045965    1074.587449   \n",
            "2327  ...     123.852037    118.018396     122.686890     154.556711   \n",
            "2328  ...     173.199421    173.147831     175.790206     167.396916   \n",
            "\n",
            "               2005           2006           2007           2008  \\\n",
            "1631    2273.540000    2273.540000    2357.881000    2288.208000   \n",
            "1633     700.397000     696.730000     715.065000     814.074000   \n",
            "1634   19156.408000   22266.024000   25151.953000   24370.882000   \n",
            "1635    4602.085000    4231.718000    4481.074000    4176.713000   \n",
            "1636  115627.844000  122752.825000  137981.876000  155066.429000   \n",
            "...             ...            ...            ...            ...   \n",
            "2324     228.355348     223.545265     223.672218     213.041296   \n",
            "2325     434.552120     436.792950     446.926923     458.830121   \n",
            "2326    1006.018829     946.825018     958.010371     930.310881   \n",
            "2327     150.775143     149.032938     145.483249     151.165020   \n",
            "2328     170.239886     162.084372     114.902108     119.388624   \n",
            "\n",
            "               2009           2010  \n",
            "1631    2288.208000    2288.208000  \n",
            "1633     814.074000     814.074000  \n",
            "1634   24370.882000   24370.882000  \n",
            "1635    4176.713000    4176.713000  \n",
            "1636  155066.429000  155066.429000  \n",
            "...             ...            ...  \n",
            "2324     213.041296     213.041296  \n",
            "2325     458.830121     458.830121  \n",
            "2326     930.310881     930.310881  \n",
            "2327     151.165020     151.165020  \n",
            "2328     119.388624     119.388624  \n",
            "\n",
            "[531 rows x 21 columns]\n"
          ]
        }
      ]
    },
    {
      "cell_type": "code",
      "source": [
        "print(labels)"
      ],
      "metadata": {
        "colab": {
          "base_uri": "https://localhost:8080/"
        },
        "id": "PsoaqcKOn4zh",
        "outputId": "2e94f414-f7c3-4f55-e5b2-c0d3d912f4b0"
      },
      "execution_count": null,
      "outputs": [
        {
          "output_type": "stream",
          "name": "stdout",
          "text": [
            "1631      2288.208000\n",
            "1633       814.074000\n",
            "1634     24370.882000\n",
            "1635      4176.713000\n",
            "1636    155066.429000\n",
            "            ...      \n",
            "2324       213.041296\n",
            "2325       458.830121\n",
            "2326       930.310881\n",
            "2327       151.165020\n",
            "2328       119.388624\n",
            "Name: 2011, Length: 531, dtype: float64\n"
          ]
        }
      ]
    },
    {
      "cell_type": "markdown",
      "source": [
        "## Splitting the data into Training set and Testing set"
      ],
      "metadata": {
        "id": "rmHObZqpowEn"
      }
    },
    {
      "cell_type": "code",
      "source": [
        "from sklearn.model_selection import train_test_split"
      ],
      "metadata": {
        "id": "oaz0w1MZkznz"
      },
      "execution_count": null,
      "outputs": []
    },
    {
      "cell_type": "code",
      "source": [
        "X_train, X_test, y_train, y_test = train_test_split(features, labels, test_size=0.2, random_state=42)"
      ],
      "metadata": {
        "id": "Yj5QBgqrkpcr"
      },
      "execution_count": null,
      "outputs": []
    },
    {
      "cell_type": "markdown",
      "source": [
        "## Model Training"
      ],
      "metadata": {
        "id": "KlHgQuo6o4Mi"
      }
    },
    {
      "cell_type": "code",
      "source": [
        "from sklearn.linear_model import LinearRegression"
      ],
      "metadata": {
        "id": "MmyF-9qek18b"
      },
      "execution_count": null,
      "outputs": []
    },
    {
      "cell_type": "code",
      "source": [
        "model = LinearRegression()\n",
        "model.fit(X_train, y_train)"
      ],
      "metadata": {
        "colab": {
          "base_uri": "https://localhost:8080/",
          "height": 80
        },
        "id": "BEKcIeSCk9X6",
        "outputId": "26c2b5eb-b95b-4b03-917c-4f3ce86d7369"
      },
      "execution_count": null,
      "outputs": [
        {
          "output_type": "execute_result",
          "data": {
            "text/plain": [
              "LinearRegression()"
            ],
            "text/html": [
              "<style>#sk-container-id-1 {\n",
              "  /* Definition of color scheme common for light and dark mode */\n",
              "  --sklearn-color-text: black;\n",
              "  --sklearn-color-line: gray;\n",
              "  /* Definition of color scheme for unfitted estimators */\n",
              "  --sklearn-color-unfitted-level-0: #fff5e6;\n",
              "  --sklearn-color-unfitted-level-1: #f6e4d2;\n",
              "  --sklearn-color-unfitted-level-2: #ffe0b3;\n",
              "  --sklearn-color-unfitted-level-3: chocolate;\n",
              "  /* Definition of color scheme for fitted estimators */\n",
              "  --sklearn-color-fitted-level-0: #f0f8ff;\n",
              "  --sklearn-color-fitted-level-1: #d4ebff;\n",
              "  --sklearn-color-fitted-level-2: #b3dbfd;\n",
              "  --sklearn-color-fitted-level-3: cornflowerblue;\n",
              "\n",
              "  /* Specific color for light theme */\n",
              "  --sklearn-color-text-on-default-background: var(--sg-text-color, var(--theme-code-foreground, var(--jp-content-font-color1, black)));\n",
              "  --sklearn-color-background: var(--sg-background-color, var(--theme-background, var(--jp-layout-color0, white)));\n",
              "  --sklearn-color-border-box: var(--sg-text-color, var(--theme-code-foreground, var(--jp-content-font-color1, black)));\n",
              "  --sklearn-color-icon: #696969;\n",
              "\n",
              "  @media (prefers-color-scheme: dark) {\n",
              "    /* Redefinition of color scheme for dark theme */\n",
              "    --sklearn-color-text-on-default-background: var(--sg-text-color, var(--theme-code-foreground, var(--jp-content-font-color1, white)));\n",
              "    --sklearn-color-background: var(--sg-background-color, var(--theme-background, var(--jp-layout-color0, #111)));\n",
              "    --sklearn-color-border-box: var(--sg-text-color, var(--theme-code-foreground, var(--jp-content-font-color1, white)));\n",
              "    --sklearn-color-icon: #878787;\n",
              "  }\n",
              "}\n",
              "\n",
              "#sk-container-id-1 {\n",
              "  color: var(--sklearn-color-text);\n",
              "}\n",
              "\n",
              "#sk-container-id-1 pre {\n",
              "  padding: 0;\n",
              "}\n",
              "\n",
              "#sk-container-id-1 input.sk-hidden--visually {\n",
              "  border: 0;\n",
              "  clip: rect(1px 1px 1px 1px);\n",
              "  clip: rect(1px, 1px, 1px, 1px);\n",
              "  height: 1px;\n",
              "  margin: -1px;\n",
              "  overflow: hidden;\n",
              "  padding: 0;\n",
              "  position: absolute;\n",
              "  width: 1px;\n",
              "}\n",
              "\n",
              "#sk-container-id-1 div.sk-dashed-wrapped {\n",
              "  border: 1px dashed var(--sklearn-color-line);\n",
              "  margin: 0 0.4em 0.5em 0.4em;\n",
              "  box-sizing: border-box;\n",
              "  padding-bottom: 0.4em;\n",
              "  background-color: var(--sklearn-color-background);\n",
              "}\n",
              "\n",
              "#sk-container-id-1 div.sk-container {\n",
              "  /* jupyter's `normalize.less` sets `[hidden] { display: none; }`\n",
              "     but bootstrap.min.css set `[hidden] { display: none !important; }`\n",
              "     so we also need the `!important` here to be able to override the\n",
              "     default hidden behavior on the sphinx rendered scikit-learn.org.\n",
              "     See: https://github.com/scikit-learn/scikit-learn/issues/21755 */\n",
              "  display: inline-block !important;\n",
              "  position: relative;\n",
              "}\n",
              "\n",
              "#sk-container-id-1 div.sk-text-repr-fallback {\n",
              "  display: none;\n",
              "}\n",
              "\n",
              "div.sk-parallel-item,\n",
              "div.sk-serial,\n",
              "div.sk-item {\n",
              "  /* draw centered vertical line to link estimators */\n",
              "  background-image: linear-gradient(var(--sklearn-color-text-on-default-background), var(--sklearn-color-text-on-default-background));\n",
              "  background-size: 2px 100%;\n",
              "  background-repeat: no-repeat;\n",
              "  background-position: center center;\n",
              "}\n",
              "\n",
              "/* Parallel-specific style estimator block */\n",
              "\n",
              "#sk-container-id-1 div.sk-parallel-item::after {\n",
              "  content: \"\";\n",
              "  width: 100%;\n",
              "  border-bottom: 2px solid var(--sklearn-color-text-on-default-background);\n",
              "  flex-grow: 1;\n",
              "}\n",
              "\n",
              "#sk-container-id-1 div.sk-parallel {\n",
              "  display: flex;\n",
              "  align-items: stretch;\n",
              "  justify-content: center;\n",
              "  background-color: var(--sklearn-color-background);\n",
              "  position: relative;\n",
              "}\n",
              "\n",
              "#sk-container-id-1 div.sk-parallel-item {\n",
              "  display: flex;\n",
              "  flex-direction: column;\n",
              "}\n",
              "\n",
              "#sk-container-id-1 div.sk-parallel-item:first-child::after {\n",
              "  align-self: flex-end;\n",
              "  width: 50%;\n",
              "}\n",
              "\n",
              "#sk-container-id-1 div.sk-parallel-item:last-child::after {\n",
              "  align-self: flex-start;\n",
              "  width: 50%;\n",
              "}\n",
              "\n",
              "#sk-container-id-1 div.sk-parallel-item:only-child::after {\n",
              "  width: 0;\n",
              "}\n",
              "\n",
              "/* Serial-specific style estimator block */\n",
              "\n",
              "#sk-container-id-1 div.sk-serial {\n",
              "  display: flex;\n",
              "  flex-direction: column;\n",
              "  align-items: center;\n",
              "  background-color: var(--sklearn-color-background);\n",
              "  padding-right: 1em;\n",
              "  padding-left: 1em;\n",
              "}\n",
              "\n",
              "\n",
              "/* Toggleable style: style used for estimator/Pipeline/ColumnTransformer box that is\n",
              "clickable and can be expanded/collapsed.\n",
              "- Pipeline and ColumnTransformer use this feature and define the default style\n",
              "- Estimators will overwrite some part of the style using the `sk-estimator` class\n",
              "*/\n",
              "\n",
              "/* Pipeline and ColumnTransformer style (default) */\n",
              "\n",
              "#sk-container-id-1 div.sk-toggleable {\n",
              "  /* Default theme specific background. It is overwritten whether we have a\n",
              "  specific estimator or a Pipeline/ColumnTransformer */\n",
              "  background-color: var(--sklearn-color-background);\n",
              "}\n",
              "\n",
              "/* Toggleable label */\n",
              "#sk-container-id-1 label.sk-toggleable__label {\n",
              "  cursor: pointer;\n",
              "  display: block;\n",
              "  width: 100%;\n",
              "  margin-bottom: 0;\n",
              "  padding: 0.5em;\n",
              "  box-sizing: border-box;\n",
              "  text-align: center;\n",
              "}\n",
              "\n",
              "#sk-container-id-1 label.sk-toggleable__label-arrow:before {\n",
              "  /* Arrow on the left of the label */\n",
              "  content: \"▸\";\n",
              "  float: left;\n",
              "  margin-right: 0.25em;\n",
              "  color: var(--sklearn-color-icon);\n",
              "}\n",
              "\n",
              "#sk-container-id-1 label.sk-toggleable__label-arrow:hover:before {\n",
              "  color: var(--sklearn-color-text);\n",
              "}\n",
              "\n",
              "/* Toggleable content - dropdown */\n",
              "\n",
              "#sk-container-id-1 div.sk-toggleable__content {\n",
              "  max-height: 0;\n",
              "  max-width: 0;\n",
              "  overflow: hidden;\n",
              "  text-align: left;\n",
              "  /* unfitted */\n",
              "  background-color: var(--sklearn-color-unfitted-level-0);\n",
              "}\n",
              "\n",
              "#sk-container-id-1 div.sk-toggleable__content.fitted {\n",
              "  /* fitted */\n",
              "  background-color: var(--sklearn-color-fitted-level-0);\n",
              "}\n",
              "\n",
              "#sk-container-id-1 div.sk-toggleable__content pre {\n",
              "  margin: 0.2em;\n",
              "  border-radius: 0.25em;\n",
              "  color: var(--sklearn-color-text);\n",
              "  /* unfitted */\n",
              "  background-color: var(--sklearn-color-unfitted-level-0);\n",
              "}\n",
              "\n",
              "#sk-container-id-1 div.sk-toggleable__content.fitted pre {\n",
              "  /* unfitted */\n",
              "  background-color: var(--sklearn-color-fitted-level-0);\n",
              "}\n",
              "\n",
              "#sk-container-id-1 input.sk-toggleable__control:checked~div.sk-toggleable__content {\n",
              "  /* Expand drop-down */\n",
              "  max-height: 200px;\n",
              "  max-width: 100%;\n",
              "  overflow: auto;\n",
              "}\n",
              "\n",
              "#sk-container-id-1 input.sk-toggleable__control:checked~label.sk-toggleable__label-arrow:before {\n",
              "  content: \"▾\";\n",
              "}\n",
              "\n",
              "/* Pipeline/ColumnTransformer-specific style */\n",
              "\n",
              "#sk-container-id-1 div.sk-label input.sk-toggleable__control:checked~label.sk-toggleable__label {\n",
              "  color: var(--sklearn-color-text);\n",
              "  background-color: var(--sklearn-color-unfitted-level-2);\n",
              "}\n",
              "\n",
              "#sk-container-id-1 div.sk-label.fitted input.sk-toggleable__control:checked~label.sk-toggleable__label {\n",
              "  background-color: var(--sklearn-color-fitted-level-2);\n",
              "}\n",
              "\n",
              "/* Estimator-specific style */\n",
              "\n",
              "/* Colorize estimator box */\n",
              "#sk-container-id-1 div.sk-estimator input.sk-toggleable__control:checked~label.sk-toggleable__label {\n",
              "  /* unfitted */\n",
              "  background-color: var(--sklearn-color-unfitted-level-2);\n",
              "}\n",
              "\n",
              "#sk-container-id-1 div.sk-estimator.fitted input.sk-toggleable__control:checked~label.sk-toggleable__label {\n",
              "  /* fitted */\n",
              "  background-color: var(--sklearn-color-fitted-level-2);\n",
              "}\n",
              "\n",
              "#sk-container-id-1 div.sk-label label.sk-toggleable__label,\n",
              "#sk-container-id-1 div.sk-label label {\n",
              "  /* The background is the default theme color */\n",
              "  color: var(--sklearn-color-text-on-default-background);\n",
              "}\n",
              "\n",
              "/* On hover, darken the color of the background */\n",
              "#sk-container-id-1 div.sk-label:hover label.sk-toggleable__label {\n",
              "  color: var(--sklearn-color-text);\n",
              "  background-color: var(--sklearn-color-unfitted-level-2);\n",
              "}\n",
              "\n",
              "/* Label box, darken color on hover, fitted */\n",
              "#sk-container-id-1 div.sk-label.fitted:hover label.sk-toggleable__label.fitted {\n",
              "  color: var(--sklearn-color-text);\n",
              "  background-color: var(--sklearn-color-fitted-level-2);\n",
              "}\n",
              "\n",
              "/* Estimator label */\n",
              "\n",
              "#sk-container-id-1 div.sk-label label {\n",
              "  font-family: monospace;\n",
              "  font-weight: bold;\n",
              "  display: inline-block;\n",
              "  line-height: 1.2em;\n",
              "}\n",
              "\n",
              "#sk-container-id-1 div.sk-label-container {\n",
              "  text-align: center;\n",
              "}\n",
              "\n",
              "/* Estimator-specific */\n",
              "#sk-container-id-1 div.sk-estimator {\n",
              "  font-family: monospace;\n",
              "  border: 1px dotted var(--sklearn-color-border-box);\n",
              "  border-radius: 0.25em;\n",
              "  box-sizing: border-box;\n",
              "  margin-bottom: 0.5em;\n",
              "  /* unfitted */\n",
              "  background-color: var(--sklearn-color-unfitted-level-0);\n",
              "}\n",
              "\n",
              "#sk-container-id-1 div.sk-estimator.fitted {\n",
              "  /* fitted */\n",
              "  background-color: var(--sklearn-color-fitted-level-0);\n",
              "}\n",
              "\n",
              "/* on hover */\n",
              "#sk-container-id-1 div.sk-estimator:hover {\n",
              "  /* unfitted */\n",
              "  background-color: var(--sklearn-color-unfitted-level-2);\n",
              "}\n",
              "\n",
              "#sk-container-id-1 div.sk-estimator.fitted:hover {\n",
              "  /* fitted */\n",
              "  background-color: var(--sklearn-color-fitted-level-2);\n",
              "}\n",
              "\n",
              "/* Specification for estimator info (e.g. \"i\" and \"?\") */\n",
              "\n",
              "/* Common style for \"i\" and \"?\" */\n",
              "\n",
              ".sk-estimator-doc-link,\n",
              "a:link.sk-estimator-doc-link,\n",
              "a:visited.sk-estimator-doc-link {\n",
              "  float: right;\n",
              "  font-size: smaller;\n",
              "  line-height: 1em;\n",
              "  font-family: monospace;\n",
              "  background-color: var(--sklearn-color-background);\n",
              "  border-radius: 1em;\n",
              "  height: 1em;\n",
              "  width: 1em;\n",
              "  text-decoration: none !important;\n",
              "  margin-left: 1ex;\n",
              "  /* unfitted */\n",
              "  border: var(--sklearn-color-unfitted-level-1) 1pt solid;\n",
              "  color: var(--sklearn-color-unfitted-level-1);\n",
              "}\n",
              "\n",
              ".sk-estimator-doc-link.fitted,\n",
              "a:link.sk-estimator-doc-link.fitted,\n",
              "a:visited.sk-estimator-doc-link.fitted {\n",
              "  /* fitted */\n",
              "  border: var(--sklearn-color-fitted-level-1) 1pt solid;\n",
              "  color: var(--sklearn-color-fitted-level-1);\n",
              "}\n",
              "\n",
              "/* On hover */\n",
              "div.sk-estimator:hover .sk-estimator-doc-link:hover,\n",
              ".sk-estimator-doc-link:hover,\n",
              "div.sk-label-container:hover .sk-estimator-doc-link:hover,\n",
              ".sk-estimator-doc-link:hover {\n",
              "  /* unfitted */\n",
              "  background-color: var(--sklearn-color-unfitted-level-3);\n",
              "  color: var(--sklearn-color-background);\n",
              "  text-decoration: none;\n",
              "}\n",
              "\n",
              "div.sk-estimator.fitted:hover .sk-estimator-doc-link.fitted:hover,\n",
              ".sk-estimator-doc-link.fitted:hover,\n",
              "div.sk-label-container:hover .sk-estimator-doc-link.fitted:hover,\n",
              ".sk-estimator-doc-link.fitted:hover {\n",
              "  /* fitted */\n",
              "  background-color: var(--sklearn-color-fitted-level-3);\n",
              "  color: var(--sklearn-color-background);\n",
              "  text-decoration: none;\n",
              "}\n",
              "\n",
              "/* Span, style for the box shown on hovering the info icon */\n",
              ".sk-estimator-doc-link span {\n",
              "  display: none;\n",
              "  z-index: 9999;\n",
              "  position: relative;\n",
              "  font-weight: normal;\n",
              "  right: .2ex;\n",
              "  padding: .5ex;\n",
              "  margin: .5ex;\n",
              "  width: min-content;\n",
              "  min-width: 20ex;\n",
              "  max-width: 50ex;\n",
              "  color: var(--sklearn-color-text);\n",
              "  box-shadow: 2pt 2pt 4pt #999;\n",
              "  /* unfitted */\n",
              "  background: var(--sklearn-color-unfitted-level-0);\n",
              "  border: .5pt solid var(--sklearn-color-unfitted-level-3);\n",
              "}\n",
              "\n",
              ".sk-estimator-doc-link.fitted span {\n",
              "  /* fitted */\n",
              "  background: var(--sklearn-color-fitted-level-0);\n",
              "  border: var(--sklearn-color-fitted-level-3);\n",
              "}\n",
              "\n",
              ".sk-estimator-doc-link:hover span {\n",
              "  display: block;\n",
              "}\n",
              "\n",
              "/* \"?\"-specific style due to the `<a>` HTML tag */\n",
              "\n",
              "#sk-container-id-1 a.estimator_doc_link {\n",
              "  float: right;\n",
              "  font-size: 1rem;\n",
              "  line-height: 1em;\n",
              "  font-family: monospace;\n",
              "  background-color: var(--sklearn-color-background);\n",
              "  border-radius: 1rem;\n",
              "  height: 1rem;\n",
              "  width: 1rem;\n",
              "  text-decoration: none;\n",
              "  /* unfitted */\n",
              "  color: var(--sklearn-color-unfitted-level-1);\n",
              "  border: var(--sklearn-color-unfitted-level-1) 1pt solid;\n",
              "}\n",
              "\n",
              "#sk-container-id-1 a.estimator_doc_link.fitted {\n",
              "  /* fitted */\n",
              "  border: var(--sklearn-color-fitted-level-1) 1pt solid;\n",
              "  color: var(--sklearn-color-fitted-level-1);\n",
              "}\n",
              "\n",
              "/* On hover */\n",
              "#sk-container-id-1 a.estimator_doc_link:hover {\n",
              "  /* unfitted */\n",
              "  background-color: var(--sklearn-color-unfitted-level-3);\n",
              "  color: var(--sklearn-color-background);\n",
              "  text-decoration: none;\n",
              "}\n",
              "\n",
              "#sk-container-id-1 a.estimator_doc_link.fitted:hover {\n",
              "  /* fitted */\n",
              "  background-color: var(--sklearn-color-fitted-level-3);\n",
              "}\n",
              "</style><div id=\"sk-container-id-1\" class=\"sk-top-container\"><div class=\"sk-text-repr-fallback\"><pre>LinearRegression()</pre><b>In a Jupyter environment, please rerun this cell to show the HTML representation or trust the notebook. <br />On GitHub, the HTML representation is unable to render, please try loading this page with nbviewer.org.</b></div><div class=\"sk-container\" hidden><div class=\"sk-item\"><div class=\"sk-estimator fitted sk-toggleable\"><input class=\"sk-toggleable__control sk-hidden--visually\" id=\"sk-estimator-id-1\" type=\"checkbox\" checked><label for=\"sk-estimator-id-1\" class=\"sk-toggleable__label fitted sk-toggleable__label-arrow fitted\">&nbsp;&nbsp;LinearRegression<a class=\"sk-estimator-doc-link fitted\" rel=\"noreferrer\" target=\"_blank\" href=\"https://scikit-learn.org/1.5/modules/generated/sklearn.linear_model.LinearRegression.html\">?<span>Documentation for LinearRegression</span></a><span class=\"sk-estimator-doc-link fitted\">i<span>Fitted</span></span></label><div class=\"sk-toggleable__content fitted\"><pre>LinearRegression()</pre></div> </div></div></div></div>"
            ]
          },
          "metadata": {},
          "execution_count": 68
        }
      ]
    },
    {
      "cell_type": "markdown",
      "source": [
        "## Model Prediction and Evaluation"
      ],
      "metadata": {
        "id": "SY2AaqkfpFU-"
      }
    },
    {
      "cell_type": "code",
      "source": [
        "y_pred = model.predict(X_test)"
      ],
      "metadata": {
        "id": "ubDnYQ50lCIr"
      },
      "execution_count": null,
      "outputs": []
    },
    {
      "cell_type": "markdown",
      "source": [
        "## Calculate Mean Squared Error , R2 Square"
      ],
      "metadata": {
        "id": "wNwbznkxpYGA"
      }
    },
    {
      "cell_type": "code",
      "source": [
        "from sklearn.metrics import mean_squared_error, r2_score"
      ],
      "metadata": {
        "id": "PSzP1l4DlGpF"
      },
      "execution_count": null,
      "outputs": []
    },
    {
      "cell_type": "code",
      "source": [
        "mse = mean_squared_error(y_test, y_pred)\n",
        "print(f\"Mean Squared Error: {mse}\")\n"
      ],
      "metadata": {
        "colab": {
          "base_uri": "https://localhost:8080/"
        },
        "id": "WP0QWo0clIQA",
        "outputId": "f464406f-2b46-4126-cd5f-a0f3657d0887"
      },
      "execution_count": null,
      "outputs": [
        {
          "output_type": "stream",
          "name": "stdout",
          "text": [
            "Mean Squared Error: 4.480921127155897e-16\n"
          ]
        }
      ]
    },
    {
      "cell_type": "code",
      "source": [
        "r2 = r2_score(y_test, y_pred)\n",
        "print(f\"R2 Score: {r2}\")"
      ],
      "metadata": {
        "colab": {
          "base_uri": "https://localhost:8080/"
        },
        "id": "lzT1Zr-KlZiD",
        "outputId": "a6f25582-e738-42e4-9219-79f4f5d83105"
      },
      "execution_count": null,
      "outputs": [
        {
          "output_type": "stream",
          "name": "stdout",
          "text": [
            "R2 Score: 1.0\n"
          ]
        }
      ]
    },
    {
      "cell_type": "markdown",
      "source": [
        "## Visualization using pyplot & seaborn"
      ],
      "metadata": {
        "id": "tiAyw7fupt0u"
      }
    },
    {
      "cell_type": "code",
      "source": [
        "import seaborn as sns"
      ],
      "metadata": {
        "id": "x1FfwymUlj5u"
      },
      "execution_count": null,
      "outputs": []
    },
    {
      "cell_type": "code",
      "source": [
        "coef_df = pd.DataFrame({\n",
        "    'Year': yearly_columns[:-1],\n",
        "    'Coefficient': model.coef_\n",
        "})"
      ],
      "metadata": {
        "id": "oVjE0M_wloGH"
      },
      "execution_count": null,
      "outputs": []
    },
    {
      "cell_type": "code",
      "source": [
        "sns.barplot(x='Year', y='Coefficient', data=coef_df)\n",
        "plt.xlabel('Year')\n",
        "plt.ylabel('Coefficient')\n",
        "plt.title('Feature Importance by Year')\n",
        "plt.xticks(rotation=45)\n",
        "plt.show()"
      ],
      "metadata": {
        "colab": {
          "base_uri": "https://localhost:8080/",
          "height": 493
        },
        "id": "kuwSn500lr96",
        "outputId": "99edc2e2-0858-4d27-81d6-5d51991c1b98"
      },
      "execution_count": null,
      "outputs": [
        {
          "output_type": "display_data",
          "data": {
            "text/plain": [
              "<Figure size 640x480 with 1 Axes>"
            ],
            "image/png": "[encoded data removed]"
          },
          "metadata": {}
        }
      ]
    }
  ]
}